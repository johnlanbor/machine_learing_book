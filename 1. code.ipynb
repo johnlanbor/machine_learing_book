{
 "cells": [
  {
   "cell_type": "code",
   "execution_count": 1,
   "metadata": {},
   "outputs": [
    {
     "name": "stdout",
     "output_type": "stream",
     "text": [
      "exe\n"
     ]
    }
   ],
   "source": [
    "a=None\n",
    "if a is None and True:\n",
    "    print(\"exe\")"
   ]
  },
  {
   "cell_type": "code",
   "execution_count": 2,
   "metadata": {},
   "outputs": [
    {
     "name": "stderr",
     "output_type": "stream",
     "text": [
      "IOPub data rate exceeded.\n",
      "The notebook server will temporarily stop sending output\n",
      "to the client in order to avoid crashing it.\n",
      "To change this limit, set the config variable\n",
      "`--NotebookApp.iopub_data_rate_limit`.\n"
     ]
    }
   ],
   "source": [
    "# \"*\", \"?\", \"[]\"。\"*\"匹配0个或多个字符；\"?\"匹配单个字符；\"[]\"匹配指定范围内的字符，如：[0-9]匹配数字。\n",
    "# glob用于查找制定文件夹下的制定内容\n",
    "import glob\n",
    "png_list = glob.glob(\"/home/pyp/data/TestData/luna_backup/*/*.png\")\n",
    "print(png_list)"
   ]
  },
  {
   "cell_type": "markdown",
   "metadata": {},
   "source": [
    "不想写 累"
   ]
  },
  {
   "cell_type": "code",
   "execution_count": 2,
   "metadata": {},
   "outputs": [
    {
     "name": "stdout",
     "output_type": "stream",
     "text": [
      "   c1   c2\n",
      "0  11  101\n",
      "1  12  111\n",
      "2  13  121\n",
      "    0    1\n",
      "0  12  102\n",
      "1  13  112\n",
      "2  14  122\n"
     ]
    }
   ],
   "source": [
    "import numpy as np\n",
    "import pandas as pd\n",
    "\n",
    "def _map(data, exp):                  \n",
    "    for index, row in data.iterrows():   # 获取每行的index、row\n",
    "        for col_name in data.columns:\n",
    "            row[col_name] = exp(row[col_name]) # 把结果返回给data\n",
    "    return data\n",
    "\n",
    "def _1map(data, exp):\n",
    "    _data = [[exp(row[col_name])               # 把结果转换成2级list\n",
    "             for col_name in data.columns]\n",
    "             for index, row in data.iterrows()\n",
    "            ]\n",
    "    return _data\n",
    "\n",
    "\n",
    "if __name__ == \"__main__\":\n",
    "    inp = [{'c1':10, 'c2':100}, {'c1':11,'c2':110}, {'c1':12,'c2':120}]\n",
    "    df = pd.DataFrame(inp)\n",
    "    temp = _map(df, lambda ele: ele+1 )\n",
    "    print(temp)\n",
    "\n",
    "    _temp = _1map(df, lambda ele: ele+1)\n",
    "    res_data = pd.DataFrame(_temp)         # 对2级list转换成DataFrame\n",
    "    print(res_data)"
   ]
  },
  {
   "cell_type": "code",
   "execution_count": 3,
   "metadata": {},
   "outputs": [
    {
     "name": "stdout",
     "output_type": "stream",
     "text": [
      "masses\n"
     ]
    }
   ],
   "source": [
    "for model_name in [\"masses\"]:\n",
    "    print(model_name)"
   ]
  },
  {
   "cell_type": "code",
   "execution_count": null,
   "metadata": {
    "collapsed": true
   },
   "outputs": [],
   "source": []
  }
 ],
 "metadata": {
  "kernelspec": {
   "display_name": "Python 3",
   "language": "python",
   "name": "python3"
  },
  "language_info": {
   "codemirror_mode": {
    "name": "ipython",
    "version": 3
   },
   "file_extension": ".py",
   "mimetype": "text/x-python",
   "name": "python",
   "nbconvert_exporter": "python",
   "pygments_lexer": "ipython3",
   "version": "3.5.3"
  }
 },
 "nbformat": 4,
 "nbformat_minor": 2
}
